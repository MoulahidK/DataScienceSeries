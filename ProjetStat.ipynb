{
 "cells": [
  {
   "cell_type": "code",
   "execution_count": null,
   "metadata": {},
   "outputs": [],
   "source": [
    "import numpy as np\n",
    "import pandas as pd\n",
    "import seaborn as sns\n",
    "\n",
    "import matplotlib.pyplot as plt"
   ]
  },
  {
   "cell_type": "code",
   "execution_count": null,
   "metadata": {},
   "outputs": [],
   "source": [
    "TD = pd.read_excel('Tableau_Declarations-Prealables-Embauche.xlsx',header=0)\n",
    "TD.head()"
   ]
  },
  {
   "cell_type": "code",
   "execution_count": null,
   "metadata": {},
   "outputs": [],
   "source": [
    "TD.index"
   ]
  },
  {
   "cell_type": "code",
   "execution_count": null,
   "metadata": {},
   "outputs": [],
   "source": [
    "mask_CDD = TD['Nature_de_contrat'].str.match(\"CDD.*\")\n",
    "CDD=TD[mask_CDD]\n",
    " \n",
    "rng = pd.date_range('2000 Jan 1', periods=len(CDD), freq='MS')\n",
    "CDD.index = rng\n",
    "CDD\n"
   ]
  },
  {
   "cell_type": "code",
   "execution_count": null,
   "metadata": {},
   "outputs": [],
   "source": [
    "mask_CDI = TD['Nature_de_contrat'].str.match(\"CDI.*\")\n",
    "CDI=TD[mask_CDI]\n",
    "rng = pd.date_range('2000 Jan 1', periods=len(CDI), freq='MS')\n",
    "CDI.index = rng\n",
    "CDI.describe()"
   ]
  },
  {
   "cell_type": "code",
   "execution_count": null,
   "metadata": {},
   "outputs": [],
   "source": [
    "ax= CDI.plot(y=[\"DPAE_brut\"],style='-')\n",
    "CDI.resample('BA').mean().plot(y=[\"DPAE_brut\"],style=':',ax=ax,figsize=(20,8))\n",
    "\n",
    "CDI.boxplot(column=[\"DPAE_brut\"], by='Annee', figsize=(20,8))\n",
    "CDI.boxplot(column=[\"DPAE_brut\"], by='Trimestre', figsize=(10,8))\n"
   ]
  },
  {
   "cell_type": "code",
   "execution_count": null,
   "metadata": {},
   "outputs": [],
   "source": [
    "ax= CDD.plot(y=[\"DPAE_brut\"],style='-')\n",
    "CDD.resample('BA').mean().plot(y=[\"DPAE_brut\"],style=':',ax=ax,figsize=(20,8))\n",
    "\n",
    "CDD.boxplot(column=[\"DPAE_brut\"], by='Annee', figsize=(20,8))\n",
    "CDD.boxplot(column=[\"DPAE_brut\"], by='Trimestre', figsize=(10,8))\n"
   ]
  },
  {
   "cell_type": "code",
   "execution_count": null,
   "metadata": {},
   "outputs": [],
   "source": [
    "EES = pd.read_excel('Tableau_Emploi-Salarie-Trimestre-National_09032022.xlsx',index_col=0)"
   ]
  },
  {
   "cell_type": "code",
   "execution_count": null,
   "metadata": {},
   "outputs": [],
   "source": [
    "EES.head(5)\n"
   ]
  },
  {
   "cell_type": "code",
   "execution_count": null,
   "metadata": {},
   "outputs": [],
   "source": [
    "EES_A = EES.replace(\"(O)\",pd.NA)"
   ]
  },
  {
   "cell_type": "code",
   "execution_count": null,
   "metadata": {},
   "outputs": [],
   "source": [
    "EES_A.head()"
   ]
  },
  {
   "cell_type": "code",
   "execution_count": null,
   "metadata": {},
   "outputs": [],
   "source": [
    "EES_A.isna().sum()\n",
    "EES_NET = EES_A.drop([\"idBank\",\"Dernière mise à jour\", \"Période\"],axis=1)"
   ]
  },
  {
   "cell_type": "code",
   "execution_count": null,
   "metadata": {},
   "outputs": [],
   "source": [
    "EES_NET.head(5)"
   ]
  },
  {
   "cell_type": "code",
   "execution_count": null,
   "metadata": {},
   "outputs": [],
   "source": [
    "EES_NET=EES_NET.dropna(axis=0)"
   ]
  },
  {
   "cell_type": "code",
   "execution_count": null,
   "metadata": {},
   "outputs": [],
   "source": [
    "EES_NET.head(5)"
   ]
  },
  {
   "cell_type": "code",
   "execution_count": null,
   "metadata": {},
   "outputs": [],
   "source": [
    "EES_NET.loc['total'] = EES_NET.sum(numeric_only=False, axis=0)\n",
    "EES_NET.tail(1)"
   ]
  },
  {
   "cell_type": "code",
   "execution_count": null,
   "metadata": {},
   "outputs": [],
   "source": [
    "EES_NET=EES_NET.T.copy()\n",
    "EES_NET.head(5)"
   ]
  },
  {
   "cell_type": "code",
   "execution_count": null,
   "metadata": {},
   "outputs": [],
   "source": [
    "EES_TOTAL = EES_NET['total']\n",
    "EES_TOTAL\n",
    "\n"
   ]
  },
  {
   "cell_type": "code",
   "execution_count": null,
   "metadata": {},
   "outputs": [],
   "source": [
    "plt.figure(figsize=(20, 8))\n",
    "plt.plot(EES_TOTAL)\n",
    "plt.xlabel(\"Date\")\n",
    "plt.ylabel(\"Sum of all fields\")\n",
    "plt.title(\"Plot\")\n",
    "\n",
    "plt.show()"
   ]
  },
  {
   "cell_type": "code",
   "execution_count": null,
   "metadata": {},
   "outputs": [],
   "source": [
    "#Selection de 4 secteurs\n",
    "EES_NET[EES_NET.columns[:4]]"
   ]
  },
  {
   "cell_type": "code",
   "execution_count": null,
   "metadata": {},
   "outputs": [],
   "source": [
    "secteur1 = EES_NET[EES_NET.columns[0]].astype(float)\n",
    "secteur2 = EES_NET[EES_NET.columns[1]].astype(float)\n",
    "secteur3 = EES_NET[EES_NET.columns[2]].astype(float)\n",
    "secteur4 = EES_NET[EES_NET.columns[3]].astype(float)\n",
    "\n",
    "secteurs=[secteur1,secteur2,secteur3,secteur4]\n"
   ]
  },
  {
   "cell_type": "code",
   "execution_count": null,
   "metadata": {
    "scrolled": true
   },
   "outputs": [],
   "source": [
    "#Description des secteurs\n",
    "for secteur in secteurs :\n",
    "    print(f\"\\npour {secteur.name} :\\n\\n{secteur.describe()}\")\n"
   ]
  },
  {
   "cell_type": "code",
   "execution_count": null,
   "metadata": {},
   "outputs": [],
   "source": [
    "#Plot par secteur\n",
    "for secteur in secteurs :\n",
    "    plt.figure(figsize=(20, 8))\n",
    "    plt.plot(secteur.index, secteur.values)\n",
    "    plt.xlabel(\"Date\")\n",
    "    plt.ylabel(\"Emplois\")\n",
    "    plt.title(secteur.name)\n",
    "    plt.show()"
   ]
  },
  {
   "cell_type": "markdown",
   "metadata": {},
   "source": [
    "Question 2 :"
   ]
  },
  {
   "cell_type": "code",
   "execution_count": null,
   "metadata": {},
   "outputs": [],
   "source": [
    "#Saisonalité des CDD\n",
    "from statsmodels.tsa.seasonal import seasonal_decompose\n",
    "decomposition = seasonal_decompose(CDD[\"DPAE_brut\"], period=12) \n",
    "\n",
    "plt.figure(figsize=(25,8))\n",
    "plt.plot(CDD.index, CDD[\"DPAE_brut\"], 'k')\n",
    "plt.legend(['Cases'])\n",
    "plt.figure(figsize=(25,8))\n",
    "plt.plot(CDD.index,decomposition.trend)\n",
    "plt.plot(CDD.index,decomposition.seasonal)\n",
    "plt.plot(CDD.index,decomposition.resid)\n",
    "plt.legend(['Trend', 'Seasonal', 'Resid'])"
   ]
  },
  {
   "cell_type": "code",
   "execution_count": null,
   "metadata": {},
   "outputs": [],
   "source": [
    "#Saisonalité des CDI\n",
    "from statsmodels.tsa.seasonal import seasonal_decompose\n",
    "decomposition = seasonal_decompose(CDI[\"DPAE_brut\"], period=12)\n",
    "\n",
    "plt.figure(figsize=(25,8))\n",
    "plt.plot(CDI.index, CDI[\"DPAE_brut\"], 'k')\n",
    "plt.legend(['Cases'])\n",
    "plt.figure(figsize=(25,8))\n",
    "plt.plot(CDI.index,decomposition.trend)\n",
    "plt.plot(CDI.index,decomposition.seasonal)\n",
    "plt.plot(CDI.index,decomposition.resid)\n",
    "plt.legend(['Trend', 'Seasonal', 'Resid'])\n"
   ]
  },
  {
   "cell_type": "code",
   "execution_count": null,
   "metadata": {},
   "outputs": [],
   "source": [
    "for secteur in secteurs :\n",
    "    decomposition = seasonal_decompose( secteur.values,period=4)\n",
    "    #Emplois\n",
    "    plt.figure(figsize=(25,8))\n",
    "    plt.plot(secteur.index,secteur.values , 'k')\n",
    "    plt.title(\"Emplois du secteur \"+secteur.name)\n",
    "    plt.show()\n",
    "\n",
    "    # trend\n",
    "    plt.figure(figsize=(25,8))\n",
    "    plt.plot(secteur.index,decomposition.trend)\n",
    "    plt.title(\"Tendance du secteur \"+secteur.name)\n",
    "    plt.show()\n",
    "\n",
    "    #seasonal + resid\n",
    "    plt.figure(figsize=(25,8))\n",
    "    plt.title(\"Secteur \"+secteur.name)\n",
    "    plt.plot(secteur.index,decomposition.seasonal)\n",
    "    plt.plot(secteur.index,decomposition.resid)\n",
    "    plt.legend(['Seasonal', 'Resid'])\n",
    "    plt.show()"
   ]
  },
  {
   "cell_type": "markdown",
   "metadata": {},
   "source": [
    "Correlation"
   ]
  },
  {
   "cell_type": "code",
   "execution_count": null,
   "metadata": {},
   "outputs": [],
   "source": [
    "CDD_F=CDD[(CDD.index >= pd.Timestamp('2000')) & (CDD.index < pd.Timestamp('2022'))]\n",
    "dd=pd.DataFrame(columns=list(['Trimestre',\"DPAE_brut\"]))\n",
    "for i in range(4*(2022-2000)):\n",
    "    s=0\n",
    "    for j in range(3):\n",
    "        s+=CDD_F.iloc[i*3+j][\"DPAE_brut\"]\n",
    "    s/=3\n",
    "    a=pd.DataFrame(data={\"Trimestre\" : [str(CDD_F.iloc[i*3][\"Annee\"])+\"-T\"+str(CDD_F.iloc[i*3][\"Trimestre\"])] ,\"DPAE_brut\":[s]})\n",
    "    dd = pd.concat([dd , a])\n",
    "dd.index = dd[\"Trimestre\"]\n",
    "dd=dd[\"DPAE_brut\"].astype(float)\n",
    "dd"
   ]
  },
  {
   "cell_type": "code",
   "execution_count": null,
   "metadata": {},
   "outputs": [],
   "source": [
    "#Ramener les secteurs dur la periode 2000-2021\n",
    "\n",
    "#ici on commence avec 1970, et pour chaque année en a 4 valeurs , pour arriver au debut des valeurs de 2000 on declade de 4*29\n",
    "secteur1_c = secteur1 [4*29 + 1 :]\n",
    "secteur2_c = secteur2 [4*29 + 1 :]\n",
    "secteur3_c = secteur3 [4*29 + 1 :]\n",
    "secteur4_c = secteur4 [4*29 + 1 :]\n",
    "\n",
    "secteur_c=[secteur1_c,secteur2_c,secteur3_c,secteur4_c]\n",
    "\n",
    "secteur1_c"
   ]
  },
  {
   "cell_type": "code",
   "execution_count": null,
   "metadata": {},
   "outputs": [],
   "source": [
    "######################## Correlation avec CDD ####################################\n",
    "for secteur in secteur_c:\n",
    "    print(f\"\\nCorrelation entre CDD et {secteur.name} :\\n\\t\",\n",
    "    np.corrcoef(secteur.values,dd.values)[0,1])"
   ]
  },
  {
   "cell_type": "code",
   "execution_count": null,
   "metadata": {},
   "outputs": [],
   "source": [
    "#On deduit un DataFrame de forme adequate\n",
    "CDI_F=CDI[(CDI.index >= pd.Timestamp('2000')) & (CDI.index < pd.Timestamp('2022'))]\n",
    "di=pd.DataFrame(columns=list(['Trimestre',\"DPAE_brut\"]))\n",
    "for i in range(4*(2022-2000)):\n",
    "    s=0\n",
    "    for j in range(3):\n",
    "        s+=CDI_F.iloc[i*3+j][\"DPAE_brut\"]\n",
    "    s/=3\n",
    "    a=pd.DataFrame(data={\"Trimestre\" : [str(CDI_F.iloc[i*3][\"Annee\"])+\"-T\"+str(CDI_F.iloc[i*3][\"Trimestre\"])] ,\"DPAE_brut\":[s]})\n",
    "    di = pd.concat([di , a])\n",
    "di.index = di[\"Trimestre\"]\n",
    "di=di[\"DPAE_brut\"].astype(float)\n",
    "\n",
    "######################## Correlation avec CDI ####################################\n",
    "for secteur in secteur_c:\n",
    "    print(f\"\\nCorrelation entre CDI et {secteur.name} :\\n\\t\",\n",
    "    np.corrcoef(secteur.values,di.values)[0,1])"
   ]
  },
  {
   "cell_type": "markdown",
   "metadata": {},
   "source": [
    "Question 3"
   ]
  },
  {
   "cell_type": "code",
   "execution_count": null,
   "metadata": {},
   "outputs": [],
   "source": [
    "CDD = CDD[[\"DPAE_brut\"]]\n",
    "# CDD.shape\n",
    "# CDD.info()\n",
    "CDD_train = CDD[:212]\n",
    "CDD_test = CDD[212:]\n",
    "CDD_test"
   ]
  },
  {
   "cell_type": "markdown",
   "metadata": {},
   "source": []
  },
  {
   "cell_type": "code",
   "execution_count": null,
   "metadata": {},
   "outputs": [],
   "source": [
    "CDI = CDI[[\"DPAE_brut\"]]\n",
    "# CDI.shape\n",
    "# CDI.info()\n",
    "CDI\n",
    "CDI_train = CDI[:212]\n",
    "CDI_test = CDI[212:]\n",
    "\n"
   ]
  },
  {
   "cell_type": "code",
   "execution_count": null,
   "metadata": {},
   "outputs": [],
   "source": [
    "secteur_train = []\n",
    "secteur_test = []\n",
    "for secteur in secteurs :\n",
    "    secteur_train.append(secteur[:164])\n",
    "    secteur_test.append(secteur[164:])\n",
    "\n",
    "  "
   ]
  },
  {
   "cell_type": "code",
   "execution_count": null,
   "metadata": {},
   "outputs": [],
   "source": [
    "from statsmodels.tsa.api import ExponentialSmoothing, SimpleExpSmoothing, Holt\n",
    "\n",
    "fit3 = ExponentialSmoothing(\n",
    "    CDD_train,\n",
    "    seasonal_periods = 12,\n",
    "    trend = \"add\",\n",
    "    seasonal = \"add\",\n",
    "    use_boxcox = False,\n",
    "    initialization_method = \"estimated\",\n",
    ").fit()"
   ]
  },
  {
   "cell_type": "code",
   "execution_count": null,
   "metadata": {},
   "outputs": [],
   "source": [
    "forecast = fit3.forecast(len(CDD_test))\n",
    "full_curve = np.concatenate((fit3.fittedvalues, forecast))\n",
    "\n",
    "plt.figure(figsize=(25,8))\n",
    "\n",
    "plt.plot(CDD_train.index,CDD_train.values, marker=\"o\", color=\"black\", label='CDD_Train')\n",
    "plt.plot(CDD_test.index,CDD_test.values, marker=\"o\", color=\"blue\", label='CDD_Test')\n",
    "plt.plot(CDD.index,full_curve, marker=\"o\", color=\"orange\", label='Forecast')\n",
    "plt.legend()\n",
    "plt.show()"
   ]
  },
  {
   "cell_type": "code",
   "execution_count": null,
   "metadata": {},
   "outputs": [],
   "source": [
    "fit3 = ExponentialSmoothing(\n",
    "    CDI_train,\n",
    "    seasonal_periods = 12,\n",
    "    trend = \"add\",\n",
    "    seasonal = \"add\",\n",
    "    use_boxcox = False,\n",
    "    initialization_method = \"estimated\",\n",
    ").fit()"
   ]
  },
  {
   "cell_type": "code",
   "execution_count": null,
   "metadata": {},
   "outputs": [],
   "source": [
    "forecast = fit3.forecast(len(CDI_test))\n",
    "full_curve = np.concatenate((fit3.fittedvalues, forecast))\n",
    "\n",
    "plt.figure(figsize=(25,8))\n",
    "\n",
    "plt.plot(CDI_train.index,CDI_train.values, marker=\"o\", color=\"black\", label='CDI')\n",
    "plt.plot(CDI_test.index,CDI_test.values, marker=\"o\", color=\"blue\", label='CDI')\n",
    "plt.plot(CDI.index,full_curve, marker=\"o\", color=\"orange\", label='Forecast')\n",
    "plt.legend()\n",
    "plt.show()"
   ]
  },
  {
   "cell_type": "code",
   "execution_count": null,
   "metadata": {},
   "outputs": [],
   "source": [
    "fit3 = []\n",
    "for secteur in range(4) :\n",
    "    fit3.append( Holt(\n",
    "    secteur_train[secteur],\n",
    "    initialization_method = \"estimated\",\n",
    "    ).fit( smoothing_level=0.2, smoothing_trend=0.2) )\n",
    "    ''' seasonal_periods = 4,\n",
    "    trend = \"add\",\n",
    "    seasonal = \"add\",\n",
    "    use_boxcox = False,'''"
   ]
  },
  {
   "cell_type": "code",
   "execution_count": null,
   "metadata": {},
   "outputs": [],
   "source": [
    "forecast = []\n",
    "for secteur in range(4) :\n",
    "    forecast.append(fit3[secteur].forecast(len(secteur_test[secteur])))\n",
    "    full_curve = np.concatenate((fit3[secteur].fittedvalues, forecast[secteur]))\n",
    "\n",
    "    plt.figure(figsize=(25,8))\n",
    "\n",
    "    plt.plot(secteur_train[secteur].index,secteur_train[secteur].values, marker=\"o\", color=\"black\", label='Secteur'+secteurs[secteur].name)\n",
    "    plt.plot(secteur_test[secteur].index,secteur_test[secteur].values, marker=\"o\", color=\"blue\", label='CDI')\n",
    "    plt.plot(secteurs[secteur].index,full_curve, marker=\"o\", color=\"orange\", label='Forecast')\n",
    "    plt.legend()\n",
    "    plt.show()"
   ]
  },
  {
   "cell_type": "code",
   "execution_count": null,
   "metadata": {},
   "outputs": [],
   "source": []
  }
 ],
 "metadata": {
  "interpreter": {
   "hash": "02a3c894954291fda4ab19733d35c869283f9a77a2dca789b03614318f65231a"
  },
  "kernelspec": {
   "display_name": "Python 3",
   "language": "python",
   "name": "python3"
  },
  "language_info": {
   "codemirror_mode": {
    "name": "ipython",
    "version": 3
   },
   "file_extension": ".py",
   "mimetype": "text/x-python",
   "name": "python",
   "nbconvert_exporter": "python",
   "pygments_lexer": "ipython3",
   "version": "3.8.12"
  }
 },
 "nbformat": 4,
 "nbformat_minor": 2
}
