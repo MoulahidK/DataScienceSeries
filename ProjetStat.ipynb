{
 "cells": [
  {
   "cell_type": "code",
   "execution_count": null,
   "metadata": {},
   "outputs": [],
   "source": [
    "import numpy as np\n",
    "import pandas as pd\n",
    "import seaborn as sns\n",
    "\n",
    "import matplotlib.pyplot as plt"
   ]
  },
  {
   "cell_type": "code",
   "execution_count": null,
   "metadata": {},
   "outputs": [],
   "source": [
    "TD = pd.read_excel('Tableau_Declarations-Prealables-Embauche.xlsx',header=0)\n",
    "TD.head()"
   ]
  },
  {
   "cell_type": "code",
   "execution_count": null,
   "metadata": {},
   "outputs": [],
   "source": [
    "TD.index"
   ]
  },
  {
   "cell_type": "code",
   "execution_count": null,
   "metadata": {},
   "outputs": [],
   "source": [
    "mask_CDD = TD['Nature_de_contrat'].str.match(\"CDD.*\")\n",
    "CDD=TD[mask_CDD]\n",
    " \n",
    "rng = pd.date_range('2000 Jan 1', periods=len(CDD), freq='MS')\n",
    "CDD.index = rng\n",
    "CDD\n"
   ]
  },
  {
   "cell_type": "code",
   "execution_count": null,
   "metadata": {},
   "outputs": [],
   "source": [
    "mask_CDI = TD['Nature_de_contrat'].str.match(\"CDI.*\")\n",
    "CDI=TD[mask_CDI]\n",
    "rng = pd.date_range('2000 Jan 1', periods=len(CDI), freq='MS')\n",
    "CDI.index = rng\n",
    "CDI.describe()"
   ]
  },
  {
   "cell_type": "code",
   "execution_count": null,
   "metadata": {},
   "outputs": [],
   "source": [
    "ax= CDI.plot(y=[\"DPAE_brut\"],style='-')\n",
    "CDI.resample('BA').mean().plot(y=[\"DPAE_brut\"],style=':',ax=ax,figsize=(20,8))\n",
    "\n",
    "CDI.boxplot(column=[\"DPAE_brut\"], by='Annee', figsize=(20,8))\n",
    "CDI.boxplot(column=[\"DPAE_brut\"], by='Trimestre', figsize=(10,8))\n"
   ]
  },
  {
   "cell_type": "code",
   "execution_count": null,
   "metadata": {},
   "outputs": [],
   "source": [
    "ax= CDD.plot(y=[\"DPAE_brut\"],style='-')\n",
    "CDD.resample('BA').mean().plot(y=[\"DPAE_brut\"],style=':',ax=ax,figsize=(20,8))\n",
    "\n",
    "CDD.boxplot(column=[\"DPAE_brut\"], by='Annee', figsize=(20,8))\n",
    "CDD.boxplot(column=[\"DPAE_brut\"], by='Trimestre', figsize=(10,8))\n"
   ]
  },
  {
   "cell_type": "code",
   "execution_count": null,
   "metadata": {},
   "outputs": [],
   "source": [
    "from pandas.plotting import autocorrelation_plot\n",
    "autocorrelation_plot(CDD['DPAE_brut'][:70])\n",
    "plt.show()\n",
    "autocorrelation_plot(CDI['DPAE_brut'][:70])"
   ]
  },
  {
   "cell_type": "code",
   "execution_count": null,
   "metadata": {},
   "outputs": [],
   "source": [
    "EES = pd.read_excel('Tableau_Emploi-Salarie-Trimestre-National_09032022.xlsx',index_col=0)"
   ]
  },
  {
   "cell_type": "code",
   "execution_count": null,
   "metadata": {},
   "outputs": [],
   "source": [
    "EES.head(5)\n"
   ]
  },
  {
   "cell_type": "code",
   "execution_count": null,
   "metadata": {},
   "outputs": [],
   "source": [
    "EES_A = EES.replace(\"(O)\",pd.NA)"
   ]
  },
  {
   "cell_type": "code",
   "execution_count": null,
   "metadata": {},
   "outputs": [],
   "source": [
    "EES_A.head()"
   ]
  },
  {
   "cell_type": "code",
   "execution_count": null,
   "metadata": {},
   "outputs": [],
   "source": [
    "EES_A.isna().sum()\n",
    "EES_NET = EES_A.drop([\"idBank\",\"Dernière mise à jour\", \"Période\"],axis=1)"
   ]
  },
  {
   "cell_type": "code",
   "execution_count": null,
   "metadata": {},
   "outputs": [],
   "source": [
    "EES_NET.head(5)"
   ]
  },
  {
   "cell_type": "code",
   "execution_count": null,
   "metadata": {},
   "outputs": [],
   "source": [
    "EES_NET=EES_NET.dropna(axis=0)"
   ]
  },
  {
   "cell_type": "code",
   "execution_count": null,
   "metadata": {},
   "outputs": [],
   "source": [
    "EES_NET.head(5)"
   ]
  },
  {
   "cell_type": "code",
   "execution_count": null,
   "metadata": {},
   "outputs": [],
   "source": [
    "EES_NET.loc['total'] = EES_NET.sum(numeric_only=False, axis=0)"
   ]
  },
  {
   "cell_type": "code",
   "execution_count": null,
   "metadata": {},
   "outputs": [],
   "source": [
    "EES_NET.head(5)"
   ]
  },
  {
   "cell_type": "code",
   "execution_count": null,
   "metadata": {},
   "outputs": [],
   "source": [
    "EES_TOTAL = EES_NET.drop( EES_NET.index.to_list()[:-1] , axis = 0 )\n",
    "EES_TOTAL"
   ]
  },
  {
   "cell_type": "code",
   "execution_count": null,
   "metadata": {},
   "outputs": [],
   "source": [
    "EES_NET.index"
   ]
  },
  {
   "cell_type": "code",
   "execution_count": null,
   "metadata": {},
   "outputs": [],
   "source": [
    "EES_NET[:4]"
   ]
  },
  {
   "cell_type": "code",
   "execution_count": null,
   "metadata": {},
   "outputs": [],
   "source": [
    "secteur1 = EES_NET.iloc[[1]]\n",
    "secteur2 = EES_NET.iloc[[2]]\n",
    "secteur3 = EES_NET.iloc[[3]]\n",
    "secteur4 = EES_NET.iloc[[4]]\n"
   ]
  },
  {
   "cell_type": "code",
   "execution_count": null,
   "metadata": {},
   "outputs": [],
   "source": [
    "secteur1\n"
   ]
  },
  {
   "cell_type": "code",
   "execution_count": null,
   "metadata": {},
   "outputs": [],
   "source": [
    "secteur2\n"
   ]
  },
  {
   "cell_type": "code",
   "execution_count": null,
   "metadata": {},
   "outputs": [],
   "source": [
    "secteur3\n"
   ]
  },
  {
   "cell_type": "code",
   "execution_count": null,
   "metadata": {},
   "outputs": [],
   "source": [
    "secteur4"
   ]
  },
  {
   "cell_type": "markdown",
   "metadata": {},
   "source": [
    "Question 2 :"
   ]
  },
  {
   "cell_type": "code",
   "execution_count": null,
   "metadata": {},
   "outputs": [],
   "source": [
    "from statsmodels.tsa.seasonal import seasonal_decompose\n",
    "decomposition = seasonal_decompose(CDD[\"DPAE_brut\"], period=12) \n",
    "\n",
    "\n",
    "plt.figure(figsize=(25,8))\n",
    "plt.plot(CDD.index, CDD[\"DPAE_brut\"], 'k')\n",
    "plt.legend(['Cases'])\n",
    "plt.figure(figsize=(25,8))\n",
    "plt.plot(CDD.index,decomposition.trend)\n",
    "plt.plot(CDD.index,decomposition.seasonal)\n",
    "plt.plot(CDD.index,decomposition.resid)\n",
    "plt.legend(['Trend', 'Seasonal', 'Resid'])"
   ]
  },
  {
   "cell_type": "code",
   "execution_count": null,
   "metadata": {},
   "outputs": [],
   "source": [
    "from statsmodels.tsa.seasonal import seasonal_decompose\n",
    "decomposition = seasonal_decompose(CDI[\"DPAE_brut\"], period=12) \n",
    "\n",
    "\n",
    "plt.figure(figsize=(25,8))\n",
    "plt.plot(CDI.index, CDI[\"DPAE_brut\"], 'k')\n",
    "plt.legend(['Cases'])\n",
    "plt.figure(figsize=(25,8))\n",
    "plt.plot(CDI.index,decomposition.trend)\n",
    "plt.plot(CDI.index,decomposition.seasonal)\n",
    "plt.plot(CDI.index,decomposition.resid)\n",
    "plt.legend(['Trend', 'Seasonal', 'Resid'])"
   ]
  }
 ],
 "metadata": {
  "interpreter": {
   "hash": "02a3c894954291fda4ab19733d35c869283f9a77a2dca789b03614318f65231a"
  },
  "kernelspec": {
   "display_name": "Python 3.8.12 64-bit ('workshop': conda)",
   "language": "python",
   "name": "python3"
  },
  "language_info": {
   "codemirror_mode": {
    "name": "ipython",
    "version": 3
   },
   "file_extension": ".py",
   "mimetype": "text/x-python",
   "name": "python",
   "nbconvert_exporter": "python",
   "pygments_lexer": "ipython3",
   "version": "3.8.2"
  },
  "orig_nbformat": 4
 },
 "nbformat": 4,
 "nbformat_minor": 2
}
