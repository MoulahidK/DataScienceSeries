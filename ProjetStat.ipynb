{
 "cells": [
  {
   "cell_type": "code",
   "execution_count": null,
   "metadata": {},
   "outputs": [],
   "source": [
    "import numpy as np\n",
    "import pandas as pd\n",
    "import seaborn as sns\n",
    "\n",
    "import matplotlib.pyplot as plt"
   ]
  },
  {
   "cell_type": "markdown",
   "metadata": {},
   "source": [
    "<h1>Question 1 :</h1>\n",
    "<h2>Q1 : 1</h2>\n",
    "Lecture et presentation de statistiques (DPAE)"
   ]
  },
  {
   "cell_type": "code",
   "execution_count": null,
   "metadata": {},
   "outputs": [],
   "source": [
    "TD = pd.read_excel('Tableau_Declarations-Prealables-Embauche.xlsx',header=0)\n",
    "TD.head()"
   ]
  },
  {
   "cell_type": "code",
   "execution_count": null,
   "metadata": {},
   "outputs": [],
   "source": [
    "# Extraction des CDD et presentation des statistiques\n",
    "\n",
    "mask_CDD = TD['Nature_de_contrat'].str.match(\"CDD.*\")\n",
    "CDD=TD[mask_CDD]\n",
    " \n",
    "rng = pd.date_range('2000 Jan 1', periods=len(CDD), freq='MS')\n",
    "CDD.index = rng\n",
    "CDD.describe()\n"
   ]
  },
  {
   "cell_type": "code",
   "execution_count": null,
   "metadata": {},
   "outputs": [],
   "source": [
    "# Extraction des CDI et presentation des statistiques\n",
    "\n",
    "mask_CDI = TD['Nature_de_contrat'].str.match(\"CDI.*\")\n",
    "CDI=TD[mask_CDI]\n",
    "rng = pd.date_range('2000 Jan 1', periods=len(CDI), freq='MS')\n",
    "CDI.index = rng\n",
    "CDI.describe()"
   ]
  },
  {
   "cell_type": "code",
   "execution_count": null,
   "metadata": {},
   "outputs": [],
   "source": [
    "# Pour CDI : Representation du DPAE_brut et de l'evolution de sa moyenne\n",
    "ax= CDI.plot(y=[\"DPAE_brut\"],style='-')\n",
    "CDI.resample('BA').mean().plot(y=[\"DPAE_brut\"],style=':',ax=ax,figsize=(20,8))\n",
    "plt.legend([\"DPAE_brut\",\"mean of DPAE_brut\"])\n",
    "\n",
    "CDI.boxplot(column=[\"DPAE_brut\"], by='Annee', figsize=(20,8),showmeans=True)\n",
    "CDI.boxplot(column=[\"DPAE_brut\"], by='Trimestre', figsize=(10,8),showmeans=True)\n"
   ]
  },
  {
   "cell_type": "code",
   "execution_count": null,
   "metadata": {},
   "outputs": [],
   "source": [
    "# Pour CDD : Representation du DPAE_brut et de l'evolution de sa moyenne\n",
    "ax= CDD.plot(y=[\"DPAE_brut\"],style='-')\n",
    "CDD.resample('BA').mean().plot(y=[\"DPAE_brut\"],style=':',ax=ax,figsize=(20,8))\n",
    "plt.legend([\"DPAE_brut\",\"mean of DPAE_brut\"])\n",
    "\n",
    "CDD.boxplot(column=[\"DPAE_brut\"], by='Annee', figsize=(20,8))\n",
    "CDD.boxplot(column=[\"DPAE_brut\"], by='Trimestre', figsize=(10,8))\n"
   ]
  },
  {
   "cell_type": "markdown",
   "metadata": {},
   "source": [
    "<h2>Question 1 : 2</h2>\n",
    "<h3>Q1 : 2 : 1</h3>\n",
    "Nettoyage de données "
   ]
  },
  {
   "cell_type": "code",
   "execution_count": null,
   "metadata": {},
   "outputs": [],
   "source": [
    "EES = pd.read_excel('Tableau_Emploi-Salarie-Trimestre-National_09032022.xlsx',index_col=0)\n",
    "\n",
    "#EES.head(5)"
   ]
  },
  {
   "cell_type": "code",
   "execution_count": null,
   "metadata": {},
   "outputs": [],
   "source": [
    "#On interprete les (O) comme des NA\n",
    "EES_A = EES.replace(\"(O)\",pd.NA)\n",
    "\n",
    "#EES_A.head()"
   ]
  },
  {
   "cell_type": "code",
   "execution_count": null,
   "metadata": {},
   "outputs": [],
   "source": [
    "#On retire des colonnes jugées non pertinentes\n",
    "EES_NET = EES_A.drop([\"idBank\",\"Dernière mise à jour\", \"Période\"],axis=1)\n",
    "\n",
    "#EES_NET.head(5)"
   ]
  },
  {
   "cell_type": "code",
   "execution_count": null,
   "metadata": {},
   "outputs": [],
   "source": [
    "#On supprime les secteurs comportant des valeurs NA\n",
    "EES_NET=EES_NET.dropna(axis=0)\n",
    "\n",
    "#EES_NET.head(5)"
   ]
  },
  {
   "cell_type": "code",
   "execution_count": null,
   "metadata": {},
   "outputs": [],
   "source": [
    "#On transpose le DF pour avoir les dates commes index , et les secteurs comme colonnes\n",
    "EES_NET=EES_NET.T.copy()\n",
    "\n",
    "EES_NET.head(5)"
   ]
  },
  {
   "cell_type": "markdown",
   "metadata": {},
   "source": [
    "<h3>Q1 : 2 : 2</h3>\n",
    "Création d'une seule série temporelle qui somme l’ensemble de secteurs"
   ]
  },
  {
   "cell_type": "code",
   "execution_count": null,
   "metadata": {},
   "outputs": [],
   "source": [
    "#On ajoute un ligne en bas du DF qui represente le Total de chaque colonne\n",
    "EES_NET['total'] = EES_NET.sum(numeric_only=False, axis=1)\n",
    "EES_NET['total']"
   ]
  },
  {
   "cell_type": "code",
   "execution_count": null,
   "metadata": {},
   "outputs": [],
   "source": [
    "plt.figure(figsize=(20, 8))\n",
    "plt.plot(EES_NET['total'])\n",
    "plt.xlabel(\"Date\")\n",
    "plt.ylabel(\"Sum of all fields\")\n",
    "plt.title(\"Plot\")\n",
    "\n",
    "plt.show()"
   ]
  },
  {
   "cell_type": "markdown",
   "metadata": {},
   "source": [
    "<p>Observation : On remarque là une hausse des Emplois salariés de trimestre en trimestre suivant les années</p>"
   ]
  },
  {
   "cell_type": "markdown",
   "metadata": {},
   "source": [
    "<h3>Q1 : 2 : 3</h3>\n",
    "Etude de 2-5 secteurs :<br>\n",
    "Dans notre cas, on en traite 4"
   ]
  },
  {
   "cell_type": "code",
   "execution_count": null,
   "metadata": {},
   "outputs": [],
   "source": [
    "#Selection de 4 secteurs (qui sont les 4 premières colonnes)\n",
    "EES_NET[EES_NET.columns[:4]]"
   ]
  },
  {
   "cell_type": "code",
   "execution_count": null,
   "metadata": {},
   "outputs": [],
   "source": [
    "secteur1 = EES_NET[EES_NET.columns[0]].astype(float)\n",
    "secteur2 = EES_NET[EES_NET.columns[1]].astype(float)\n",
    "secteur3 = EES_NET[EES_NET.columns[2]].astype(float)\n",
    "secteur4 = EES_NET[EES_NET.columns[3]].astype(float)\n",
    "\n",
    "secteurs=[secteur1,secteur2,secteur3,secteur4]\n"
   ]
  },
  {
   "cell_type": "code",
   "execution_count": null,
   "metadata": {},
   "outputs": [],
   "source": [
    "#Plot par secteur\n",
    "for secteur in secteurs :\n",
    "    plt.figure(figsize=(20, 8))\n",
    "    plt.plot(secteur.index, secteur.values)\n",
    "    plt.xlabel(\"Date\")\n",
    "    plt.ylabel(\"Emplois\")\n",
    "    plt.title(secteur.name)\n",
    "    plt.show()"
   ]
  },
  {
   "cell_type": "markdown",
   "metadata": {},
   "source": [
    "Dans notre cas on remarque que :\n",
    "<ul>\n",
    "    <li>Le premier secteur presente une baisse au niveau du nombre d'Emplois salariés trimestriels</li>\n",
    "    <li>Le deuxieme secteur monte et descend, mais par rapport aux année 1970-1980, les valeurs des dernières années sont toutes inferieurs</li>\n",
    "    <li>Le troisième et le dernier secteur montrent une hausse du nombre d'Emplois salariés trimestriels au fil des années</li>\n",
    "</ul>"
   ]
  },
  {
   "cell_type": "markdown",
   "metadata": {},
   "source": [
    "<h3>Q1 : 2 : 4</h3>\n",
    "Statistiques classiques "
   ]
  },
  {
   "cell_type": "code",
   "execution_count": null,
   "metadata": {},
   "outputs": [],
   "source": [
    "#Description des secteurs\n",
    "for secteur in secteurs :\n",
    "    print(f\"\\npour {secteur.name} :\\n\\n{secteur.describe()}\")"
   ]
  },
  {
   "cell_type": "markdown",
   "metadata": {},
   "source": [
    "<h1>Question 2 :</h1>\n",
    "<h2>Q2 : 1</h2>\n",
    "Evaluation de la saisonnalité sur DPAE"
   ]
  },
  {
   "cell_type": "code",
   "execution_count": null,
   "metadata": {},
   "outputs": [],
   "source": [
    "#Saisonalité des CDD\n",
    "from statsmodels.tsa.seasonal import seasonal_decompose\n",
    "decomposition = seasonal_decompose(CDD[\"DPAE_brut\"], period=12) \n",
    "\n",
    "plt.figure(figsize=(25,8))\n",
    "plt.plot(CDD.index, CDD[\"DPAE_brut\"], 'k')\n",
    "plt.legend(['Cases'])\n",
    "plt.figure(figsize=(25,8))\n",
    "plt.plot(CDD.index,decomposition.trend)\n",
    "plt.plot(CDD.index,decomposition.seasonal)\n",
    "plt.plot(CDD.index,decomposition.resid)\n",
    "plt.legend(['Trend', 'Seasonal', 'Resid'])"
   ]
  },
  {
   "cell_type": "code",
   "execution_count": null,
   "metadata": {},
   "outputs": [],
   "source": [
    "#Saisonalité des CDI\n",
    "from statsmodels.tsa.seasonal import seasonal_decompose\n",
    "decomposition = seasonal_decompose(CDI[\"DPAE_brut\"], period=12)\n",
    "\n",
    "plt.figure(figsize=(25,8))\n",
    "plt.plot(CDI.index, CDI[\"DPAE_brut\"], 'k')\n",
    "plt.legend(['Cases'])\n",
    "plt.figure(figsize=(25,8))\n",
    "plt.plot(CDI.index,decomposition.trend)\n",
    "plt.plot(CDI.index,decomposition.seasonal)\n",
    "plt.plot(CDI.index,decomposition.resid)\n",
    "plt.legend(['Trend', 'Seasonal', 'Resid'])\n"
   ]
  },
  {
   "cell_type": "markdown",
   "metadata": {},
   "source": [
    "Observation : On peut clairement voir que le CDI et CDD suivent une saisonnalité"
   ]
  },
  {
   "cell_type": "markdown",
   "metadata": {},
   "source": [
    "<h2>Q2 : 2</h2>\n",
    "Evaluation de la saisonnalité sur DPAE"
   ]
  },
  {
   "cell_type": "code",
   "execution_count": null,
   "metadata": {},
   "outputs": [],
   "source": [
    "#On representera Trend et (Seasonal,Resid) separement vu la difference d'echelles. On aura ainsi une meilleur visibilité des données\n",
    "\n",
    "for secteur in secteurs :\n",
    "    decomposition = seasonal_decompose( secteur.values,period=4)\n",
    "    #Emplois\n",
    "    plt.figure(figsize=(25,8))\n",
    "    plt.plot(secteur.index,secteur.values , 'k')\n",
    "    plt.title(\"Emplois du secteur \"+secteur.name)\n",
    "    plt.show()\n",
    "\n",
    "    # trend\n",
    "    plt.figure(figsize=(25,8))\n",
    "    plt.plot(secteur.index,decomposition.trend)\n",
    "    plt.title(\"Tendance du secteur \"+secteur.name)\n",
    "    plt.show()\n",
    "\n",
    "    #seasonal + resid\n",
    "    plt.figure(figsize=(25,8))\n",
    "    plt.title(\"Secteur \"+secteur.name)\n",
    "    plt.plot(secteur.index,decomposition.seasonal)\n",
    "    plt.plot(secteur.index,decomposition.resid)\n",
    "    plt.legend(['Seasonal', 'Resid'])\n",
    "    plt.show()"
   ]
  },
  {
   "cell_type": "markdown",
   "metadata": {},
   "source": [
    "Observation : On peut clairement voir que les valeurs de secteurs ne suivent pas une saisonnalité"
   ]
  },
  {
   "cell_type": "markdown",
   "metadata": {},
   "source": [
    "<h2>Q2 : 3</h2>\n",
    "Calcule de la corrélation entre les séries de DPAE et les séries sélectionnées d’EESSA"
   ]
  },
  {
   "cell_type": "code",
   "execution_count": null,
   "metadata": {},
   "outputs": [],
   "source": [
    "#On preleve les valeurs prisent entre 2000-2021\n",
    "CDD_F=CDD[(CDD.index >= pd.Timestamp('2000')) & (CDD.index < pd.Timestamp('2022'))]\n",
    "\n",
    "#On calcule une moyenne pour chaque 3 mois successifs\n",
    "#pour representer la valeur du trimestre pour cette année\n",
    "dd=pd.DataFrame(columns=list(['Trimestre',\"DPAE_brut\"]))\n",
    "for i in range(4*(2022-2000)):\n",
    "    s=0\n",
    "    for j in range(3):\n",
    "        s+=CDD_F.iloc[i*3+j][\"DPAE_brut\"]\n",
    "    s/=3\n",
    "    a=pd.DataFrame(data={\"Trimestre\" : [str(CDD_F.iloc[i*3][\"Annee\"])+\"-T\"+str(CDD_F.iloc[i*3][\"Trimestre\"])] ,\"DPAE_brut\":[s]})\n",
    "    dd = pd.concat([dd , a])\n",
    "dd.index = dd[\"Trimestre\"]\n",
    "dd=dd[\"DPAE_brut\"].astype(float)\n",
    "dd"
   ]
  },
  {
   "cell_type": "code",
   "execution_count": null,
   "metadata": {},
   "outputs": [],
   "source": [
    "#Ramener les secteurs dur la periode 2000-2021\n",
    "\n",
    "#ici on commence avec 1970-T4, et pour chaque année en a 4 valeurs,\n",
    "#pour arriver au debut des valeurs de 2000 on declade de 4*29 + 1 \n",
    "secteur1_c = secteur1 [4*29 + 1 :]\n",
    "secteur2_c = secteur2 [4*29 + 1 :]\n",
    "secteur3_c = secteur3 [4*29 + 1 :]\n",
    "secteur4_c = secteur4 [4*29 + 1 :]\n",
    "\n",
    "secteur_c=[secteur1_c,secteur2_c,secteur3_c,secteur4_c]\n",
    "\n",
    "secteur1_c"
   ]
  },
  {
   "cell_type": "code",
   "execution_count": null,
   "metadata": {},
   "outputs": [],
   "source": [
    "######################## Correlation avec CDD ####################################\n",
    "for secteur in secteur_c:\n",
    "    print(f\"\\nCorrelation entre CDD et {secteur.name} :\\n\\t\",\n",
    "    np.corrcoef(secteur.values,dd.values)[0,1])"
   ]
  },
  {
   "cell_type": "markdown",
   "metadata": {},
   "source": [
    "<h3>Interpretation :</h3>\n",
    "<ul>\n",
    "    <li>CDD et Emplois salariés trimestriels - Industrie - Sections B, C, D et E - CVS :</li>\n",
    "    <p>On a un degre de correlation qui est bas (Low degree Correlation)</p>\n",
    "    <li>CDD et Emplois salariés trimestriels - Construction - Section F - CVS :</li>\n",
    "    <p>On a un degre de correlation qui est bas (Low degree Correlation)</p>\n",
    "    <li>CDD et Emplois salariés trimestriels - Tertiaire marchand - Sections G, H, I, J, K, L, M, N, R, S, T - CVS :</li>\n",
    "    <p>On a un degre de correlation qui est bas (Low degree Correlation)</p>\n",
    "    <li>CDD et Emplois salariés trimestriels - Industries extractives, énergie, eau, gestion des déchets et dépollution - A17 : DE - CVS :</li>\n",
    "    <p>On a un degre de correlation qui est bas (Low degree Correlation)</p>\n",
    "</ul>"
   ]
  },
  {
   "cell_type": "code",
   "execution_count": null,
   "metadata": {},
   "outputs": [],
   "source": [
    "######################## Correlation avec CDI ####################################\n",
    "#On deduit un DataFrame de forme adequate\n",
    "CDI_F=CDI[(CDI.index >= pd.Timestamp('2000')) & (CDI.index < pd.Timestamp('2022'))]\n",
    "di=pd.DataFrame(columns=list(['Trimestre',\"DPAE_brut\"]))\n",
    "for i in range(4*(2022-2000)):\n",
    "    s=0\n",
    "    for j in range(3):\n",
    "        s+=CDI_F.iloc[i*3+j][\"DPAE_brut\"]\n",
    "    s/=3\n",
    "    a=pd.DataFrame(data={\"Trimestre\" : [str(CDI_F.iloc[i*3][\"Annee\"])+\"-T\"+str(CDI_F.iloc[i*3][\"Trimestre\"])] ,\"DPAE_brut\":[s]})\n",
    "    di = pd.concat([di , a])\n",
    "di.index = di[\"Trimestre\"]\n",
    "di=di[\"DPAE_brut\"].astype(float)\n",
    "\n",
    "for secteur in secteur_c:\n",
    "    print(f\"\\nCorrelation entre CDI et {secteur.name} :\\n\\t\",\n",
    "    np.corrcoef(secteur.values,di.values)[0,1])"
   ]
  },
  {
   "cell_type": "markdown",
   "metadata": {},
   "source": [
    "<h3>Interpretation :</h3>\n",
    "<ul>\n",
    "    <li>CDI et Emplois salariés trimestriels - Industrie - Sections B, C, D et E - CVS :</li>\n",
    "    <p>On a un degre modéré de correlation (Moderate degree correlation)</p>\n",
    "    <li>CDI et Emplois salariés trimestriels - Construction - Section F - CVS :</li>\n",
    "    <p>On a un degre de correlation qui est bas (Low degree Correlation)</p>\n",
    "    <li>CDI et Emplois salariés trimestriels - Tertiaire marchand - Sections G, H, I, J, K, L, M, N, R, S, T - CVS :</li>\n",
    "    <p>On a un haut degre de correlation (High degree correlation)</p>\n",
    "    <li>CDI et Emplois salariés trimestriels - Industries extractives, énergie, eau, gestion des déchets et dépollution - A17 : DE - CVS :</li>\n",
    "    <p>On a un degre modéré de correlation (Moderate degree correlation)</p>\n",
    "</ul>"
   ]
  },
  {
   "cell_type": "markdown",
   "metadata": {},
   "source": [
    "<h1>Question 3</h1>\n",
    "Séparation des données en ensemble d’apprentissage et de test en vu d'effectuer des prédictions par lissage temporel"
   ]
  },
  {
   "cell_type": "code",
   "execution_count": null,
   "metadata": {},
   "outputs": [],
   "source": [
    "#On recupère le DPAE_brut, et on separe notre dataset en 80/20 pour generer le training et test sets\n",
    "CDD = CDD[\"DPAE_brut\"]\n",
    "CDD_train = CDD[:212]\n",
    "CDD_test = CDD[212:]\n",
    "CDD_test"
   ]
  },
  {
   "cell_type": "code",
   "execution_count": null,
   "metadata": {},
   "outputs": [],
   "source": [
    "#Comme pour le CDD, on recupère le DPAE_brut, et on separe notre dataset en 80/20 pour generer le training et test sets\n",
    "CDI = CDI[\"DPAE_brut\"]\n",
    "CDI_train = CDI[:212]\n",
    "CDI_test = CDI[212:]\n",
    "\n"
   ]
  },
  {
   "cell_type": "code",
   "execution_count": null,
   "metadata": {},
   "outputs": [],
   "source": [
    "#secteur_train contiendra les training sets des 4 secteurs, et secteur_test les test sets.\n",
    "secteur_train = []\n",
    "secteur_test = []\n",
    "for secteur in secteurs :\n",
    "    secteur_train.append(secteur[:164])\n",
    "    secteur_test.append(secteur[164:])\n",
    "\n",
    "  "
   ]
  },
  {
   "cell_type": "code",
   "execution_count": null,
   "metadata": {},
   "outputs": [],
   "source": [
    "from statsmodels.tsa.api import ExponentialSmoothing, Holt\n",
    "\n",
    "#Lissage exponentiel pour CDD\n",
    "fit3 = ExponentialSmoothing(\n",
    "    CDD_train,\n",
    "    seasonal_periods = 12,\n",
    "    trend = \"add\",\n",
    "    seasonal = \"add\",\n",
    "    use_boxcox = False,\n",
    "    initialization_method = \"estimated\",\n",
    ").fit()"
   ]
  },
  {
   "cell_type": "code",
   "execution_count": null,
   "metadata": {},
   "outputs": [],
   "source": [
    "#Prediction CDD\n",
    "# Noir      : training set\n",
    "# Blue      : test set\n",
    "# Yellow    : prediction\n",
    "\n",
    "forecast_CDD = fit3.forecast(len(CDD_test))\n",
    "full_curve = np.concatenate((fit3.fittedvalues, forecast_CDD))\n",
    "\n",
    "plt.figure(figsize=(25,8))\n",
    "\n",
    "plt.plot(CDD_train.index,CDD_train.values, marker=\"o\", color=\"black\", label='CDD_Train')\n",
    "plt.plot(CDD_test.index,CDD_test.values, marker=\"o\", color=\"blue\", label='CDD_Test')\n",
    "plt.plot(CDD.index,full_curve, marker=\"o\", color=\"orange\", label='Forecast')\n",
    "plt.legend()\n",
    "plt.show()"
   ]
  },
  {
   "cell_type": "code",
   "execution_count": null,
   "metadata": {},
   "outputs": [],
   "source": [
    "#Lissage pour CDI\n",
    "fit3 = ExponentialSmoothing(\n",
    "    CDI_train,\n",
    "    seasonal_periods = 12,\n",
    "    trend = \"add\",\n",
    "    seasonal = \"add\",\n",
    "    use_boxcox = False,\n",
    "    initialization_method = \"estimated\",\n",
    ").fit()"
   ]
  },
  {
   "cell_type": "code",
   "execution_count": null,
   "metadata": {},
   "outputs": [],
   "source": [
    "#Prediciton CDI\n",
    "forecast_CDI = fit3.forecast(len(CDI_test))\n",
    "full_curve = np.concatenate((fit3.fittedvalues, forecast_CDI))\n",
    "\n",
    "plt.figure(figsize=(25,8))\n",
    "\n",
    "plt.plot(CDI_train.index,CDI_train.values, marker=\"o\", color=\"black\", label='CDI_Train')\n",
    "plt.plot(CDI_test.index,CDI_test.values, marker=\"o\", color=\"blue\", label='CDI_Test')\n",
    "plt.plot(CDI.index,full_curve, marker=\"o\", color=\"orange\", label='Forecast')\n",
    "plt.xticks(rotation=90)\n",
    "plt.legend()\n",
    "plt.show()"
   ]
  },
  {
   "cell_type": "code",
   "execution_count": null,
   "metadata": {},
   "outputs": [],
   "source": [
    "#Lissage par secteur en prenant en consideration leurs non saisonalité\n",
    "fit3 = []\n",
    "for secteur in range(4) :\n",
    "    fit3.append( Holt(\n",
    "        secteur_train[secteur],\n",
    "        initialization_method = \"estimated\",\n",
    "    ).fit( smoothing_level=0.2, smoothing_trend=0.2) )"
   ]
  },
  {
   "cell_type": "code",
   "execution_count": null,
   "metadata": {},
   "outputs": [],
   "source": [
    "#Prediction et affichage d'un graph representatif\n",
    "# Noir      : training set\n",
    "# Blue      : test set\n",
    "# Yellow    : prediction\n",
    "\n",
    "forecast = []\n",
    "for secteur in range(4) :\n",
    "    forecast.append(fit3[secteur].forecast(len(secteur_test[secteur])))\n",
    "    full_curve = np.concatenate((fit3[secteur].fittedvalues, forecast[secteur]))\n",
    "\n",
    "    plt.figure(figsize=(25,8))\n",
    "\n",
    "    plt.plot(secteur_train[secteur].index,secteur_train[secteur].values, marker=\"o\", color=\"black\", label=\"Train data\")\n",
    "    plt.plot(secteur_test[secteur].index,secteur_test[secteur].values, marker=\"o\", color=\"blue\", label='Test data')\n",
    "    plt.plot(secteurs[secteur].index,full_curve, marker=\"o\", color=\"orange\", label='Forecast')\n",
    "    plt.title(secteurs[secteur].name)\n",
    "    plt.legend()\n",
    "    plt.show()"
   ]
  },
  {
   "cell_type": "markdown",
   "metadata": {},
   "source": [
    "<h1>Question 4 :</h1>\n",
    "Évaluation des prédictions par le calcul d’erreurs."
   ]
  },
  {
   "cell_type": "code",
   "execution_count": null,
   "metadata": {},
   "outputs": [],
   "source": [
    "from sklearn.metrics import mean_squared_error\n",
    "from math import sqrt\n",
    "\n",
    "\n",
    "rmse_CDD=sqrt(mean_squared_error(CDD_test, forecast_CDD))\n",
    "print(\"RMSE_CDD\\n\\t= \",rmse_CDD)\n",
    "\n",
    "\n",
    "rmse_CDI=sqrt(mean_squared_error(CDI_test, forecast_CDI))\n",
    "print(\"\\nRMSE_CDI\\n\\t= \",rmse_CDI)\n",
    "\n",
    "\n",
    "rmse_=[]\n",
    "for secteur in range(4) :\n",
    "    rmse_.append(sqrt(mean_squared_error(secteur_test[secteur], forecast[secteur])))\n",
    "    print(\"\\nRMSE \"+secteurs[secteur].name,\"\\n\\t= \",rmse_[secteur])"
   ]
  },
  {
   "cell_type": "markdown",
   "metadata": {},
   "source": [
    "<h1>Question 5 :</h1>\n",
    "Prediction en utilisant le modele ARIMA"
   ]
  },
  {
   "cell_type": "code",
   "execution_count": null,
   "metadata": {},
   "outputs": [],
   "source": [
    "from statsmodels.tsa.arima.model import ARIMA\n",
    "\n",
    "model = ARIMA(CDD_train, order=(2,1,2))\n",
    "CDD_ARIMA_model = model.fit()\n",
    "forecast_CDD_ARIMA=CDD_ARIMA_model.forecast(len(CDD_test))\n",
    "CDD_results = pd.concat([CDD_ARIMA_model.fittedvalues,forecast_CDD_ARIMA])\n",
    "plt.figure(figsize=(25,8))\n",
    "plt.plot(CDD_train, marker=\"o\", color=\"black\", label=\"CDD_train\")\n",
    "plt.plot(CDD_test, marker=\"o\", color=\"blue\", label='CDI')\n",
    "plt.plot(CDD_results[1:], marker=\"o\", color=\"orange\", label='CDD')\n",
    "plt.legend()\n",
    "plt.show()"
   ]
  },
  {
   "cell_type": "code",
   "execution_count": null,
   "metadata": {},
   "outputs": [],
   "source": [
    "model = ARIMA(CDI_train, order=(1,2,2))\n",
    "CDI_ARIMA_model = model.fit()\n",
    "forecast_CDI_ARIMA=CDI_ARIMA_model.forecast(len(CDI_test))\n",
    "CDI_results = pd.concat([CDI_ARIMA_model.fittedvalues,forecast_CDI_ARIMA])\n",
    "plt.figure(figsize=(25,8))\n",
    "plt.plot(CDI_train, marker=\"o\", color=\"black\", label=\"CDD_train\")\n",
    "plt.plot(CDI_test, marker=\"o\", color=\"blue\", label='CDI')\n",
    "plt.plot(CDI_results[2:], marker=\"o\", color=\"orange\", label='CDD')\n",
    "plt.legend()\n",
    "plt.show()"
   ]
  },
  {
   "cell_type": "code",
   "execution_count": null,
   "metadata": {},
   "outputs": [],
   "source": [
    "forecast_ARIMA = []\n",
    "for secteur in range(4) :\n",
    "   \n",
    "    model = ARIMA(secteur_train[secteur].values, order=(2,1,3)).fit()\n",
    "    forecast_ARIMA.append(model.forecast(len(secteur_test[secteur])))\n",
    "    result = (np.concatenate([model.fittedvalues,  forecast_ARIMA[secteur] ]))\n",
    "\n",
    "    plt.figure(figsize=(25,8))\n",
    "\n",
    "    plt.plot(secteur_train[secteur].index,secteur_train[secteur].values, marker=\"o\", color=\"black\", label='Secteur'+secteurs[secteur].name)\n",
    "    plt.plot(secteur_test[secteur].index,secteur_test[secteur].values, marker=\"o\", color=\"blue\", label='CDI')\n",
    "    plt.plot(secteurs[secteur].index[1:],result[1:], marker=\"o\",color=\"orange\", label='Forecast')\n",
    "    plt.legend()\n",
    "    plt.show()"
   ]
  },
  {
   "cell_type": "code",
   "execution_count": null,
   "metadata": {},
   "outputs": [],
   "source": [
    "#Erreur RMSE du modele ARIMA sur le CDD et CDI\n",
    "\n",
    "rmse_CDD_ARIMA=sqrt(mean_squared_error(CDD_test, forecast_CDD_ARIMA))\n",
    "rmse_CDI_ARIMA=sqrt(mean_squared_error(CDI_test, forecast_CDI_ARIMA))\n",
    "#Erreur RMSE du modele ARIMA sur nos 4 secteurs\n",
    "\n",
    "rmse_arima=[]\n",
    "for secteur in range(4):\n",
    "    rmse_arima.append(sqrt(mean_squared_error(secteur_test[secteur], forecast_ARIMA[secteur])))"
   ]
  },
  {
   "cell_type": "code",
   "execution_count": null,
   "metadata": {},
   "outputs": [],
   "source": [
    "#On affiche et compare les RMSE pour la methode de lissage et pour ARIMA\n",
    "print(\"RMSE CDD exponential smoothing :\",rmse_CDD)\n",
    "print(\"RMSE CDD ARIMA :\",rmse_CDD_ARIMA)\n",
    "print(\"\\nRMSE CDI exponential smoothing :\",rmse_CDI)\n",
    "print(\"RMSE CDI ARIMA :\",rmse_CDI_ARIMA)\n",
    "for secteur in range(4):\n",
    "    print(f\"\\nRMSE exponential smoothing {secteurs[secteur].name}:\",rmse_[secteur])\n",
    "    print(\"RMSE ARIMA {secteurs[secteur].name}:\",rmse_arima[secteur])"
   ]
  },
  {
   "cell_type": "markdown",
   "metadata": {},
   "source": [
    "<h3>Interpretation :</h3>\n",
    "<ul> \n",
    "    <li>DPAE (CDD et CDI) :</li>\n",
    "    <p>En comparant les valeurs des RMSE respectifs on peut dire que la methode du lissage donne de bien meilleur resultats</p>\n",
    "    <li>EESSA :</li>\n",
    "    <ul>\n",
    "        <li>Secteur 1 : Emplois salariés trimestriels - Industrie - Sections B, C, D et E - CVS :</li>\n",
    "        <li>Secteur 2 : Emplois salariés trimestriels - Construction - Section F - CVS :</li>\n",
    "        <li>Secteur 3 : Emplois salariés trimestriels - Tertiaire marchand - Sections G, H, I, J, K, L, M, N, R, S, T - CVS :</li>\n",
    "        <p>D'après les valeurs des RMSE, pour ces 3 secteurs ARIMA presente une valeur inferieure à celle presentée par le lissage. On en conclut que le ARIMA est mieux adapté</p>\n",
    "        <li>Secteur 4 : Emplois salariés trimestriels - Industries extractives, énergie, eau, gestion des déchets et dépollution - A17 : DE - CVS :</li>\n",
    "        <p>Ici les deux erreurs sont faibles, mais le lissage exponentiel l'emporte</p>\n",
    "    </ul>\n",
    "</ul>\n",
    "<p>En general on observe que pour la prediction du DPAE on a de meilleurs resultats à l'aide du lissage exponentiel. Pour l'EESSA on a une meilleure prediciton à l'aide du modèle ARIMA</p>"
   ]
  },
  {
   "cell_type": "markdown",
   "metadata": {},
   "source": [
    "<h1>Question 6 :</h1>"
   ]
  },
  {
   "cell_type": "code",
   "execution_count": null,
   "metadata": {},
   "outputs": [],
   "source": [
    "\n",
    "model = ARIMA(CDD, order=(2,1,2)).fit()\n",
    "prediction_CDD= model.forecast(4)\n",
    "print(prediction_CDD)\n",
    "\n",
    "\n",
    "model = ARIMA(CDI, order=(1,2,2)).fit()\n",
    "prediction_CDI= model.forecast(4)\n",
    "print(prediction_CDI)\n",
    "\n",
    "prediction_secteur=[]\n",
    "for secteur in range(4) :\n",
    "    model = ARIMA(secteurs[secteur].values, order=(2,1,3)).fit()\n",
    "    prediction_secteur.append(model.forecast(1)[0])\n"
   ]
  },
  {
   "cell_type": "code",
   "execution_count": null,
   "metadata": {},
   "outputs": [],
   "source": [
    "print(\" CDD : \".center(30,\"=\")+\"\\nLes predicitons pour fevrier-mai sont :\")\n",
    "print(prediction_CDD)\n",
    "print(\" CDI : \".center(30,\"=\")+\"\\nLes predicitons pour fevrier-mai sont :\")\n",
    "print(prediction_CDI)\n",
    "print(\"\\n\")\n",
    "for secteur in range(4):\n",
    "    print(f\" Secteur {secteur+1} : \".center(30,\"=\")+f\"\\nLes predicitons {secteurs[secteur].name} :\")\n",
    "    print(prediction_secteur[secteur])"
   ]
  }
 ],
 "metadata": {
  "interpreter": {
   "hash": "02a3c894954291fda4ab19733d35c869283f9a77a2dca789b03614318f65231a"
  },
  "kernelspec": {
   "display_name": "Python 3",
   "language": "python",
   "name": "python3"
  },
  "language_info": {
   "codemirror_mode": {
    "name": "ipython",
    "version": 3
   },
   "file_extension": ".py",
   "mimetype": "text/x-python",
   "name": "python",
   "nbconvert_exporter": "python",
   "pygments_lexer": "ipython3",
   "version": "3.8.2"
  }
 },
 "nbformat": 4,
 "nbformat_minor": 2
}
